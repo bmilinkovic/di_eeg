{
 "cells": [
  {
   "cell_type": "code",
   "execution_count": 1,
   "metadata": {},
   "outputs": [],
   "source": [
    "import os\n",
    "import json \n",
    "import torch\n",
    "import pickle\n",
    "import helpers\n",
    "import warnings\n",
    "import numpy as np\n",
    "import pylab as plt\n",
    "import networkx as nx\n",
    "from os.path import join\n",
    "from copy import deepcopy\n",
    "from scipy import signal\n",
    "import sbi.utils as utils\n",
    "import multiprocessing as mp\n",
    "from sbi.analysis import pairplot\n",
    "from vbi.utility import brute_sample\n",
    "from vbi.Models.St_Lan_numba import Inference\n",
    "from sbi.utils.user_input_checks import process_prior\n",
    "warnings.filterwarnings(\"ignore\")"
   ]
  },
  {
   "cell_type": "code",
   "execution_count": 2,
   "metadata": {},
   "outputs": [],
   "source": [
    "data_path = \"output/inferencing\"\n",
    "if not os.path.exists(data_path):\n",
    "    os.makedirs(data_path)"
   ]
  },
  {
   "cell_type": "code",
   "execution_count": 3,
   "metadata": {},
   "outputs": [],
   "source": [
    "# Load SC and Distances -------------------------------------------------------\n",
    "SC = np.loadtxt(join(\"data/connectivity\", \"weights.txt\"))\n",
    "Dist = np.loadtxt(join(\"data/connectivity\", \"tract_lengths.txt\")) / 1000.0\n",
    "np.fill_diagonal(SC, 0.0)\n",
    "np.fill_diagonal(Dist, 0.0)\n",
    "\n",
    "SC = SC/np.max(SC)\n",
    "SC = np.abs(SC) * 2.0\n",
    "assert(np.trace(SC) == 0.0)\n",
    "nn = num_nodes = SC.shape[0]\n",
    "\n",
    "freq = 40.0\n",
    "omega = 2*np.pi*freq * np.ones(nn)\n",
    "\n",
    "params = {\n",
    "    \"G\": 0.5,                      # global coupling strength\n",
    "    \"a\": -5.0,                     # biforcatio parameter\n",
    "    \"dt\": 1e-4,                    # time step [s]\n",
    "    'sigma_r': 1e-4,               # noise strength\n",
    "    'sigma_v': 1e-4,               # noise strength\n",
    "    'omega': omega,                # natural frequency [Hz]\n",
    "    \"fix_seed\": 0,\n",
    "    \"velocity\": 6.0,\n",
    "\n",
    "    \"t_transition\": 1.0,           # transition time [s]\n",
    "    \"t_end\": 5.0,                 # end time        [s]\n",
    "\n",
    "    \"weights\": SC,                 # weighted connection matrix\n",
    "    \"distances\": Dist,             # distance matrix\n",
    "    \"record_step\": 2,              # sampling every n step from mpr time series\n",
    "\n",
    "    \"data_path\": data_path,        # output directory\n",
    "}\n"
   ]
  },
  {
   "cell_type": "code",
   "execution_count": 4,
   "metadata": {},
   "outputs": [],
   "source": [
    "seed = 2\n",
    "np.random.seed(seed)\n",
    "torch.manual_seed(seed);\n",
    "\n",
    "NUM_SIMULATIONS = 100\n",
    "N_JOBS = 10\n",
    "\n",
    "prior_PAR_min = [800.0, 2.5]\n",
    "prior_PAR_max = [1700.0, 20.0]\n",
    "\n",
    "fs = 1.0/(params[\"dt\"]*params[\"record_step\"])\n",
    "\n",
    "prior_dist = utils.torchutils.BoxUniform(\n",
    "    low=torch.as_tensor(prior_PAR_min),\n",
    "    high=torch.as_tensor(prior_PAR_max))\n",
    "\n",
    "sol = Inference(params)\n",
    "prior, _, _ = process_prior(prior_dist)\n",
    "theta = prior.sample((NUM_SIMULATIONS,)) \n",
    "\n",
    "\n",
    "# storing prior samples\n",
    "torch.save(theta, join(data_path, \"theta.pt\"))\n",
    "torch.save(prior, join(data_path, \"prior.pt\"))\n",
    "# prior = torch.load(join(data_path, \"prior.pt\"))\n",
    "# theta = torch.load(join(data_path, \"theta.pt\"))"
   ]
  },
  {
   "cell_type": "code",
   "execution_count": 5,
   "metadata": {},
   "outputs": [],
   "source": [
    "# control parameters for the simulation: list of dictionaries\n",
    "par_list = []\n",
    "for i in range(theta.shape[0]):\n",
    "    par = {\"G\": theta[i, 0].item(), \"V\": theta[i, 1].item()}\n",
    "    par_list.append(par)"
   ]
  },
  {
   "cell_type": "code",
   "execution_count": 6,
   "metadata": {},
   "outputs": [
    {
     "name": "stderr",
     "output_type": "stream",
     "text": [
      "100%|██████████| 100/100 [01:22<00:00,  1.21it/s]\n"
     ]
    }
   ],
   "source": [
    "# prepare simulation data for sbi\n",
    "x = torch.as_tensor(helpers.batch_run(params, par_list, n_jobs=N_JOBS),\n",
    "                    dtype=torch.float32)[:, :3]  # only use first 3 features (try different features)\n"
   ]
  },
  {
   "cell_type": "code",
   "execution_count": 7,
   "metadata": {},
   "outputs": [],
   "source": [
    "torch.save(x, join(data_path, \"data_x.pt\"))\n",
    "# x = torch.load(join(data_path, \"data_x.pt\"))"
   ]
  },
  {
   "cell_type": "code",
   "execution_count": 8,
   "metadata": {},
   "outputs": [
    {
     "data": {
      "text/plain": [
       "(torch.Size([100, 3]),\n",
       " [2.5399999618530273, 5.5694391562803244e-14, 1.058443968322137e-13],\n",
       " [0.6539700031280518, 1.794982924503783e-14, 4.552413472775664e-14],\n",
       " [4.0, 1.245559645007832e-13, 2.1005900740622002e-13])"
      ]
     },
     "execution_count": 8,
     "metadata": {},
     "output_type": "execute_result"
    }
   ],
   "source": [
    "x.shape, x.mean(axis=0).tolist(), x.std(axis=0).tolist(), x.max(axis=0).values.tolist()"
   ]
  },
  {
   "cell_type": "code",
   "execution_count": 9,
   "metadata": {},
   "outputs": [
    {
     "data": {
      "image/png": "[encoded data removed]",
      "text/plain": [
       "<Figure size 1296x216 with 6 Axes>"
      ]
     },
     "metadata": {
      "needs_background": "light"
     },
     "output_type": "display_data"
    }
   ],
   "source": [
    "# Plot features ---------------------------------------------------------------\n",
    "x_ = x.numpy()\n",
    "fig, ax = plt.subplots(1,6, figsize=(18, 3))\n",
    "ax[0].plot(theta[:, 0].numpy(), x_[:, 0], 'o', alpha=0.5, color='r', ms=1)\n",
    "ax[1].plot(theta[:, 0].numpy(), np.log10(x_[:, 1]), 'o', alpha=0.5, color='r', ms=1)\n",
    "ax[2].plot(theta[:, 0].numpy(), x_[:, 2], 'o', alpha=0.5, color='r', ms=1)\n",
    "ax[3].plot(theta[:, 1].numpy(), x_[:, 0], 'o', alpha=0.5, color=\"b\", ms=1)\n",
    "ax[4].plot(theta[:, 1].numpy(), np.log10(x_[:, 1]), 'o', alpha=0.5, color=\"b\", ms=1)\n",
    "ax[5].plot(theta[:, 1].numpy(), x_[:, 2], 'o', alpha=0.5, color=\"b\", ms=1)\n",
    "\n",
    "for i in range(3):\n",
    "    ax[i].set_xlabel(\"G\", fontsize=12)\n",
    "for i in range(3,6):    \n",
    "    ax[i].set_xlabel(\"V\", fontsize=12)\n",
    "for i in range(6):\n",
    "    ax[i].tick_params(labelsize=12)\n",
    "\n",
    "[ax[i].set_title(\"frequency\") for i in [0,3]]\n",
    "[ax[i].set_title(\"power\") for i in [1,4]]\n",
    "[ax[i].set_title(\"area\") for i in [2,5]]\n",
    "plt.tight_layout()\n",
    "plt.savefig(join(data_path, \"features.png\"), dpi=300)"
   ]
  },
  {
   "cell_type": "code",
   "execution_count": 10,
   "metadata": {},
   "outputs": [],
   "source": [
    "NUM_SIMULATIONS = theta.shape[0]"
   ]
  },
  {
   "cell_type": "code",
   "execution_count": 11,
   "metadata": {},
   "outputs": [
    {
     "name": "stdout",
     "output_type": "stream",
     "text": [
      " Neural network successfully converged after 223 epochs.train Done in 0 hours 0 minutes 03.022226 seconds\n"
     ]
    }
   ],
   "source": [
    "# train the neural network\n",
    "obj = Inference(params)\n",
    "posterior = obj.train(NUM_SIMULATIONS, prior, x[:, :], theta[:, :], num_threads=4)"
   ]
  },
  {
   "cell_type": "code",
   "execution_count": 12,
   "metadata": {},
   "outputs": [],
   "source": [
    "# storing posterior\n",
    "with open(join(data_path, f\"posterior.pickle\"), \"wb\") as cf:\n",
    "    pickle.dump({\"posterior\": posterior}, cf)\n",
    "\n",
    "# load posterior\n",
    "# posterior = pickle.load(open(join(data_path, f\"posterior.pickle\"), \"rb\"))['posterior']\n"
   ]
  },
  {
   "cell_type": "code",
   "execution_count": 13,
   "metadata": {},
   "outputs": [],
   "source": [
    "# select an observation point (from empirical data or here just from simulation data)\n",
    "theta_obs = [1200.0, 20.0]\n",
    "x_obs = helpers.wrapper_features(params, {\"G\": theta_obs[0], \"V\": theta_obs[1]})\n",
    "x_obs = torch.tensor(x_obs, dtype=torch.float32).reshape(1,-1)"
   ]
  },
  {
   "cell_type": "code",
   "execution_count": 14,
   "metadata": {},
   "outputs": [
    {
     "name": "stderr",
     "output_type": "stream",
     "text": [
      "Drawing 10000 posterior samples: 10420it [00:00, 192683.43it/s]           \n"
     ]
    }
   ],
   "source": [
    "samples = obj.sample_posterior(x_obs[:, :3], 10_000, posterior)\n",
    "torch.save(samples, join(data_path, \"samples.pt\"))\n",
    "# samples = torch.load(join(data_path, \"samples.pt\"))"
   ]
  },
  {
   "cell_type": "code",
   "execution_count": 15,
   "metadata": {},
   "outputs": [
    {
     "data": {
      "image/png": "[encoded data removed]",
      "text/plain": [
       "<Figure size 360x360 with 4 Axes>"
      ]
     },
     "metadata": {
      "needs_background": "light"
     },
     "output_type": "display_data"
    }
   ],
   "source": [
    "# Plot joint posterior --------------------------------------------------------\n",
    "limits = [[i, j] for i, j in zip(prior_PAR_min, prior_PAR_max)]\n",
    "\n",
    "fig, ax = pairplot(\n",
    "    samples,\n",
    "    points=[theta_obs],\n",
    "    figsize=(5, 5),\n",
    "    limits=limits,\n",
    "    labels=[\"G\", \"V\"],\n",
    "    upper='kde',\n",
    "    diag='kde',\n",
    "    # title=f\"n = {len(theta)}\",\n",
    "    points_colors=\"r\",\n",
    "    samples_colors=\"k\",\n",
    "    points_offdiag={'markersize': 10})\n",
    "\n",
    "ax[0,0].tick_params(labelsize=14)\n",
    "ax[1,1].tick_params(labelsize=14)\n",
    "ax[0,0].margins(y=0)\n",
    "ax[0,0].set_xlabel(r\"$G$\", fontsize=16)\n",
    "ax[1,1].set_xlabel(r\"$V$\", fontsize=16)\n",
    "ax[1,1].set_xticks([10, 20, 30])\n",
    "ax[1,1].set_xticklabels([5, 10, 15]) #!\n",
    "fig.savefig(join(data_path, \"triangleplot.png\"), dpi=600, bbox_inches='tight')\n",
    "fig.savefig(join(data_path, \"triangleplot.svg\"), dpi=600, bbox_inches='tight')"
   ]
  },
  {
   "cell_type": "code",
   "execution_count": 16,
   "metadata": {},
   "outputs": [
    {
     "name": "stdout",
     "output_type": "stream",
     "text": [
      "[1222.435960419324, 14.641313815603452]\n"
     ]
    }
   ],
   "source": [
    "# find peak of posterior ------------------------------------------------------\n",
    "from vbi.utility import posterior_peaks\n",
    "theta_peak = posterior_peaks(samples, labels=[\"G\", \"V\"])\n",
    "print(theta_peak)\n",
    "\n",
    "# then we can check the posterior at the peak\n",
    "_par = deepcopy(params)\n",
    "_par[\"G\"] = theta_peak[0]\n",
    "_par[\"V\"] = theta_peak[1]\n",
    "data_peak = helpers.simulator(_par)"
   ]
  },
  {
   "cell_type": "code",
   "execution_count": 17,
   "metadata": {},
   "outputs": [],
   "source": [
    "# posterior predictive check ...\n",
    "# plot time series and PSD of peak and compare with observation point ..."
   ]
  }
 ],
 "metadata": {
  "kernelspec": {
   "display_name": "Python 3.9.7 ('vbi')",
   "language": "python",
   "name": "python3"
  },
  "language_info": {
   "codemirror_mode": {
    "name": "ipython",
    "version": 3
   },
   "file_extension": ".py",
   "mimetype": "text/x-python",
   "name": "python",
   "nbconvert_exporter": "python",
   "pygments_lexer": "ipython3",
   "version": "3.9.7"
  },
  "orig_nbformat": 4,
  "vscode": {
   "interpreter": {
    "hash": "c6658fbeb11e9756b335e0a2275891bf44480ed23795317e1d3387270d95d796"
   }
  }
 },
 "nbformat": 4,
 "nbformat_minor": 2
}
