{
 "cells": [
  {
   "cell_type": "code",
   "execution_count": 1,
   "metadata": {
    "execution": {
     "iopub.execute_input": "2022-11-09T14:44:34.950359Z",
     "iopub.status.busy": "2022-11-09T14:44:34.950101Z",
     "iopub.status.idle": "2022-11-09T14:44:37.017448Z",
     "shell.execute_reply": "2022-11-09T14:44:37.017040Z"
    }
   },
   "outputs": [
    {
     "ename": "ModuleNotFoundError",
     "evalue": "No module named 'vbi'",
     "output_type": "error",
     "traceback": [
      "\u001B[0;31m---------------------------------------------------------------------------\u001B[0m",
      "\u001B[0;31mModuleNotFoundError\u001B[0m                       Traceback (most recent call last)",
      "Input \u001B[0;32mIn [1]\u001B[0m, in \u001B[0;36m<cell line: 7>\u001B[0;34m()\u001B[0m\n\u001B[1;32m      5\u001B[0m \u001B[38;5;28;01mimport\u001B[39;00m \u001B[38;5;21;01mtorch\u001B[39;00m\n\u001B[1;32m      6\u001B[0m \u001B[38;5;28;01mimport\u001B[39;00m \u001B[38;5;21;01mpickle\u001B[39;00m\n\u001B[0;32m----> 7\u001B[0m \u001B[38;5;28;01mimport\u001B[39;00m \u001B[38;5;21;01mhelpers\u001B[39;00m\n\u001B[1;32m      8\u001B[0m \u001B[38;5;28;01mimport\u001B[39;00m \u001B[38;5;21;01mwarnings\u001B[39;00m\n\u001B[1;32m      9\u001B[0m \u001B[38;5;28;01mimport\u001B[39;00m \u001B[38;5;21;01mnumpy\u001B[39;00m \u001B[38;5;28;01mas\u001B[39;00m \u001B[38;5;21;01mnp\u001B[39;00m \n",
      "File \u001B[0;32m~/Documents/gitdir/AnesthesiaProjectEmergence/tmp_stuart_landau/Inference/src/helpers.py:13\u001B[0m, in \u001B[0;36m<module>\u001B[0;34m\u001B[0m\n\u001B[1;32m     11\u001B[0m \u001B[38;5;28;01mfrom\u001B[39;00m \u001B[38;5;21;01mscipy\u001B[39;00m \u001B[38;5;28;01mimport\u001B[39;00m signal\n\u001B[1;32m     12\u001B[0m \u001B[38;5;28;01mfrom\u001B[39;00m \u001B[38;5;21;01mos\u001B[39;00m\u001B[38;5;21;01m.\u001B[39;00m\u001B[38;5;21;01mpath\u001B[39;00m \u001B[38;5;28;01mimport\u001B[39;00m join\n\u001B[0;32m---> 13\u001B[0m \u001B[38;5;28;01mfrom\u001B[39;00m \u001B[38;5;21;01mvbi\u001B[39;00m\u001B[38;5;21;01m.\u001B[39;00m\u001B[38;5;21;01mfeature_extraction\u001B[39;00m \u001B[38;5;28;01mimport\u001B[39;00m Features\n\u001B[1;32m     14\u001B[0m \u001B[38;5;28;01mfrom\u001B[39;00m \u001B[38;5;21;01mvbi\u001B[39;00m\u001B[38;5;21;01m.\u001B[39;00m\u001B[38;5;21;01mModels\u001B[39;00m\u001B[38;5;21;01m.\u001B[39;00m\u001B[38;5;21;01mSt_Lan\u001B[39;00m \u001B[38;5;28;01mimport\u001B[39;00m Stuart_Landau \u001B[38;5;28;01mas\u001B[39;00m SL\n\u001B[1;32m     15\u001B[0m \u001B[38;5;28;01mfrom\u001B[39;00m \u001B[38;5;21;01mmpl_toolkits\u001B[39;00m\u001B[38;5;21;01m.\u001B[39;00m\u001B[38;5;21;01maxes_grid1\u001B[39;00m \u001B[38;5;28;01mimport\u001B[39;00m make_axes_locatable\n",
      "\u001B[0;31mModuleNotFoundError\u001B[0m: No module named 'vbi'"
     ]
    }
   ],
   "source": [
    "import os\n",
    "import h5py\n",
    "import tqdm\n",
    "import json\n",
    "import torch\n",
    "import pickle\n",
    "import helpers\n",
    "import warnings\n",
    "import numpy as np \n",
    "from copy import copy\n",
    "import pylab as plt\n",
    "from os.path import join\n",
    "from scipy import signal\n",
    "from copy import deepcopy\n",
    "from vbi.utility import kop\n",
    "from sbi.analysis import pairplot\n",
    "from multiprocessing import Pool\n",
    "from scipy.signal import hilbert\n",
    "from vbi.Models.St_Lan_swig import Stuart_Landau\n",
    "from sbi.utils.user_input_checks import process_prior\n",
    "\n",
    "warnings.filterwarnings(\"ignore\")\n"
   ]
  },
  {
   "cell_type": "code",
   "execution_count": 2,
   "metadata": {
    "execution": {
     "iopub.execute_input": "2022-11-09T14:44:37.020079Z",
     "iopub.status.busy": "2022-11-09T14:44:37.019920Z",
     "iopub.status.idle": "2022-11-09T14:44:37.022542Z",
     "shell.execute_reply": "2022-11-09T14:44:37.022206Z"
    }
   },
   "outputs": [
    {
     "ename": "NameError",
     "evalue": "name 'np' is not defined",
     "output_type": "error",
     "traceback": [
      "\u001B[0;31m---------------------------------------------------------------------------\u001B[0m",
      "\u001B[0;31mNameError\u001B[0m                                 Traceback (most recent call last)",
      "Input \u001B[0;32mIn [2]\u001B[0m, in \u001B[0;36m<cell line: 2>\u001B[0;34m()\u001B[0m\n\u001B[1;32m      1\u001B[0m torch\u001B[38;5;241m.\u001B[39mmanual_seed(\u001B[38;5;241m2\u001B[39m)\n\u001B[0;32m----> 2\u001B[0m \u001B[43mnp\u001B[49m\u001B[38;5;241m.\u001B[39mrandom\u001B[38;5;241m.\u001B[39mseed(\u001B[38;5;241m2\u001B[39m)\n",
      "\u001B[0;31mNameError\u001B[0m: name 'np' is not defined"
     ]
    }
   ],
   "source": [
    "torch.manual_seed(2)\n",
    "np.random.seed(2)"
   ]
  },
  {
   "cell_type": "code",
   "execution_count": null,
   "metadata": {
    "execution": {
     "iopub.execute_input": "2022-11-09T14:44:37.024578Z",
     "iopub.status.busy": "2022-11-09T14:44:37.024425Z",
     "iopub.status.idle": "2022-11-09T14:44:37.027121Z",
     "shell.execute_reply": "2022-11-09T14:44:37.026778Z"
    }
   },
   "outputs": [],
   "source": [
    "data_path = \"output\"\n",
    "if not os.path.exists(data_path):\n",
    "    os.makedirs(data_path)\n",
    "print(os.getcwd())"
   ]
  },
  {
   "cell_type": "code",
   "execution_count": null,
   "metadata": {
    "execution": {
     "iopub.execute_input": "2022-11-09T14:44:37.029286Z",
     "iopub.status.busy": "2022-11-09T14:44:37.029138Z",
     "iopub.status.idle": "2022-11-09T14:44:37.044390Z",
     "shell.execute_reply": "2022-11-09T14:44:37.044025Z"
    }
   },
   "outputs": [],
   "source": [
    "data_path = \"output\"\n",
    "if not os.path.exists(data_path):\n",
    "    os.makedirs(data_path)\n",
    "\n",
    "def load_mat(mat_filename, key):\n",
    "    with h5py.File(mat_filename, 'r') as f:\n",
    "        return np.array(f[key])\n",
    "\n",
    "dataset_data = json.load(open(\"dataset.json\"))\n",
    "group = dataset_data['group']\n",
    "subject = dataset_data['subject']\n",
    "\n",
    "# np.savez(\"data/SC.npz\", SC=SC, Dist=Dist)\n",
    "SC = np.load(\"data/SC.npz\")['SC']\n",
    "Dist = np.load(\"data/SC.npz\")['Dist']\n",
    "\n",
    "SC_avg = load_mat(\"data/test_conn.mat\", \"test_conn\")\n",
    "SC_avg = SC_avg / SC_avg.max()\n",
    "np.fill_diagonal(SC_avg, 0.0)\n",
    "Dist_avg = load_mat(\"data/test_dist.mat\", \"test_dist\") / 1000.0\n",
    "\n",
    "np.fill_diagonal(SC, 0.0)\n",
    "np.fill_diagonal(Dist, 0.0)\n",
    "SC = SC/np.max(SC)\n",
    "SC = np.abs(SC)\n",
    "assert(np.trace(SC) == 0.0)\n",
    "num_nodes = SC.shape[0]\n",
    "\n",
    "freq = 40.0\n",
    "omega = 2*np.pi*freq * np.ones(num_nodes)\n",
    "\n",
    "# substitute zeros with average\n",
    "SC = np.where(SC<1e-10, SC_avg, SC)\n",
    "Dist = np.where(Dist<1e4, Dist_avg, Dist)\n",
    "SC = SC * 2.0"
   ]
  },
  {
   "cell_type": "code",
   "execution_count": null,
   "metadata": {
    "execution": {
     "iopub.execute_input": "2022-11-09T14:44:37.046545Z",
     "iopub.status.busy": "2022-11-09T14:44:37.046393Z",
     "iopub.status.idle": "2022-11-09T14:44:37.048333Z",
     "shell.execute_reply": "2022-11-09T14:44:37.048004Z"
    }
   },
   "outputs": [],
   "source": [
    "fig, ax = plt.subplots(1, 2, figsize=(8, 4))\n",
    "helpers.plot_matrix(np.log10(SC), ax=ax[0], title=\"SC\", xlabel=\"\", ylabel=\"\")\n",
    "helpers.plot_matrix(np.log10(Dist), ax=ax[1], title=\"Dist\", xlabel=\"\", ylabel=\"\")\n",
    "[ax[i].set_xticks([]) for i in range(2)]\n",
    "[ax[i].set_yticks([]) for i in range(2)];"
   ]
  },
  {
   "cell_type": "code",
   "execution_count": null,
   "metadata": {
    "execution": {
     "iopub.execute_input": "2022-11-09T14:44:37.050320Z",
     "iopub.status.busy": "2022-11-09T14:44:37.050176Z",
     "iopub.status.idle": "2022-11-09T14:44:37.052048Z",
     "shell.execute_reply": "2022-11-09T14:44:37.051722Z"
    }
   },
   "outputs": [],
   "source": [
    "fig, ax = plt.subplots(1, 2, figsize=(6, 3))\n",
    "ax[0].hist(SC.flatten(), bins=100, range=(0.01, 1.0), log=True);\n",
    "ax[1].hist(Dist.flatten(), bins=100, range=(0.01, 0.25), log=True);\n",
    "ax[0].set_title(\"SC\")\n",
    "ax[1].set_title(\"Dist\")"
   ]
  },
  {
   "cell_type": "code",
   "execution_count": null,
   "metadata": {
    "execution": {
     "iopub.execute_input": "2022-11-09T14:44:37.053992Z",
     "iopub.status.busy": "2022-11-09T14:44:37.053848Z",
     "iopub.status.idle": "2022-11-09T14:44:37.056852Z",
     "shell.execute_reply": "2022-11-09T14:44:37.056522Z"
    }
   },
   "outputs": [],
   "source": [
    "parameters = {\n",
    "    \"G\": 1000.0,                      # global coupling strength\n",
    "    \"a\": -5.0,                     # bifurcation parameter\n",
    "    \"dt\": 1e-4,                    # time step [s]\n",
    "    'sigma_r': 1e-4,               # noise strength\n",
    "    'sigma_v': 1e-4,               # noise strength\n",
    "    'omega': omega,                # natural frequency [Hz]\n",
    "    \"fix_seed\": 0,\n",
    "    \"velocity\": 6.0,               # velocity          [m/s]\n",
    "\n",
    "    \"t_initial\": 0.0,              # initial time    [s] \n",
    "    \"t_transition\": 2.0,           # transition time [s]\n",
    "    \"t_final\": 10.0,               # end time        [s]   \n",
    "    \"method\": \"euler\",\n",
    "\n",
    "    \"control\": [\"G\", \"velocity\"],  # control parameters\n",
    "\n",
    "    \"adj\": SC,                     # weighted connection matrix\n",
    "    \"distances\": Dist,                  # distance matrix\n",
    "    \"record_step\": 1,              # sampling every n step from mpr time series\n",
    "    \"data_path\": \"output\",         # output directory\n",
    "    \"RECORD_TS\": 0,                # true to store large time series in file\n",
    "}\n"
   ]
  },
  {
   "cell_type": "code",
   "execution_count": null,
   "metadata": {
    "execution": {
     "iopub.execute_input": "2022-11-09T14:44:37.058818Z",
     "iopub.status.busy": "2022-11-09T14:44:37.058675Z",
     "iopub.status.idle": "2022-11-09T14:44:37.082771Z",
     "shell.execute_reply": "2022-11-09T14:44:37.082412Z"
    }
   },
   "outputs": [],
   "source": [
    "import json \n",
    "import torch\n",
    "import sbi.utils as utils\n",
    "import multiprocessing as mp\n",
    "from vbi.utility import brute_sample\n",
    "from vbi.Models.St_Lan_swig import Inference\n",
    "from vbi.feature_extraction import Features\n",
    "\n",
    "NUM_SIMULATIONS = 5000\n",
    "N_JOBS = 10\n",
    "\n",
    "prior_PAR_min = [800.0, 2.5]\n",
    "prior_PAR_max = [1700.0, 20.0]\n",
    "\n",
    "fs = 1.0/(parameters[\"dt\"]*parameters[\"record_step\"])\n",
    "\n",
    "prior_dist = utils.torchutils.BoxUniform(\n",
    "    low=torch.as_tensor(prior_PAR_min),\n",
    "    high=torch.as_tensor(prior_PAR_max))\n",
    "\n",
    "sol = Inference(parameters)\n",
    "prior, _, _ = process_prior(prior_dist)\n",
    "theta = prior.sample((NUM_SIMULATIONS,)) \n",
    "\n",
    "#!Warning: to avoid overwritting theta \n",
    "#!clean output directory before running the notebook\n",
    "if not os.path.exists(join(data_path, \"theta.pt\")):\n",
    "    torch.save(theta, join(data_path, \"theta.pt\"))\n",
    "    torch.save(prior, join(data_path, \"prior.pt\"))"
   ]
  },
  {
   "cell_type": "code",
   "execution_count": null,
   "metadata": {
    "execution": {
     "iopub.execute_input": "2022-11-09T14:44:37.084890Z",
     "iopub.status.busy": "2022-11-09T14:44:37.084741Z",
     "iopub.status.idle": "2022-11-09T14:44:37.088753Z",
     "shell.execute_reply": "2022-11-09T14:44:37.088417Z"
    }
   },
   "outputs": [],
   "source": [
    "theta.shape"
   ]
  },
  {
   "cell_type": "code",
   "execution_count": null,
   "metadata": {
    "execution": {
     "iopub.execute_input": "2022-11-09T14:44:37.091447Z",
     "iopub.status.busy": "2022-11-09T14:44:37.091303Z",
     "iopub.status.idle": "2022-11-09T14:44:37.095730Z",
     "shell.execute_reply": "2022-11-09T14:44:37.095399Z"
    }
   },
   "outputs": [],
   "source": [
    "def simulation_wrapper(params, par):\n",
    "\n",
    "    data_path = params['data_path']\n",
    "    _par = deepcopy(params)\n",
    "\n",
    "    fmin = 6.0\n",
    "    fmax = 13.0\n",
    "\n",
    "    sol = Stuart_Landau(_par)\n",
    "    data = sol.simulate(par)\n",
    "\n",
    "    fs = 1/(parameters['dt']*parameters['record_step'])\n",
    "\n",
    "    freq, pxx = signal.welch(data['x'], fs=fs, nperseg=data['x'].shape[1]//2)\n",
    "    idx = np.where((freq >= 0.0) & (freq <= 50.0))[0]\n",
    "    pxx = pxx[:, idx]\n",
    "    freq = freq[idx]\n",
    "    pxx_avg = np.mean(pxx, axis=0)\n",
    "    ind = np.argmax(pxx_avg)\n",
    "\n",
    "    pwr = np.median(pxx, axis=0)\n",
    "    ind_m = np.argmax(pwr)\n",
    "    \n",
    "    ## integrate under area between fmin and fmax\n",
    "    idx = np.logical_and(freq >= fmin, freq <= fmax).tolist()\n",
    "    area_avg = np.trapz(pxx_avg[idx], freq[idx])\n",
    "    area_med = np.trapz(pwr[idx], freq[idx])\n",
    "\n",
    "    return freq[ind_m], pwr[ind_m], area_med, freq[ind], pxx_avg[ind], area_avg"
   ]
  },
  {
   "cell_type": "code",
   "execution_count": null,
   "metadata": {
    "execution": {
     "iopub.execute_input": "2022-11-09T14:44:37.097761Z",
     "iopub.status.busy": "2022-11-09T14:44:37.097616Z",
     "iopub.status.idle": "2022-11-09T14:44:37.100701Z",
     "shell.execute_reply": "2022-11-09T14:44:37.100369Z"
    }
   },
   "outputs": [],
   "source": [
    "def batch_run(parameters, par_list):\n",
    "    \n",
    "    num_simulations = len(par_list)\n",
    "\n",
    "    def update_bar(_):\n",
    "        pbar.update()\n",
    "\n",
    "    with Pool(processes=N_JOBS) as pool:\n",
    "        with tqdm.tqdm(total=num_simulations) as pbar:\n",
    "            async_results = [pool.apply_async(simulation_wrapper, args=(parameters,\n",
    "                                                                 par_list[i]),\n",
    "                                              callback=update_bar)\n",
    "                             for i in range(num_simulations)]\n",
    "            data = [async_result.get() for async_result in async_results]\n",
    "\n",
    "    return data\n"
   ]
  },
  {
   "cell_type": "code",
   "execution_count": null,
   "metadata": {
    "execution": {
     "iopub.execute_input": "2022-11-09T14:44:37.102643Z",
     "iopub.status.busy": "2022-11-09T14:44:37.102498Z",
     "iopub.status.idle": "2022-11-09T14:44:37.145187Z",
     "shell.execute_reply": "2022-11-09T14:44:37.144838Z"
    }
   },
   "outputs": [],
   "source": [
    "par_list = []\n",
    "for i in range(theta.shape[0]):\n",
    "    par = [theta[i, 0].item(), theta[i, 1].item()]\n",
    "    par_list.append(par)\n",
    "num_simulations = len(theta)\n",
    "print(len(par_list))"
   ]
  },
  {
   "cell_type": "code",
   "execution_count": null,
   "metadata": {
    "execution": {
     "iopub.execute_input": "2022-11-09T14:44:37.147237Z",
     "iopub.status.busy": "2022-11-09T14:44:37.147081Z",
     "iopub.status.idle": "2022-11-09T14:44:37.148998Z",
     "shell.execute_reply": "2022-11-09T14:44:37.148671Z"
    }
   },
   "outputs": [],
   "source": [
    "# x = torch.as_tensor(batch_run(parameters, par_list), dtype=torch.float32)[:, :3]"
   ]
  },
  {
   "cell_type": "code",
   "execution_count": null,
   "metadata": {
    "execution": {
     "iopub.execute_input": "2022-11-09T14:44:37.150935Z",
     "iopub.status.busy": "2022-11-09T14:44:37.150792Z",
     "iopub.status.idle": "2022-11-09T14:44:37.153126Z",
     "shell.execute_reply": "2022-11-09T14:44:37.152793Z"
    }
   },
   "outputs": [],
   "source": [
    "# torch.save(x, join(data_path, \"data_x.pt\"))\n",
    "x = torch.load(join(data_path, \"data_x.pt\"))"
   ]
  },
  {
   "cell_type": "code",
   "execution_count": null,
   "metadata": {
    "execution": {
     "iopub.execute_input": "2022-11-09T14:44:37.155074Z",
     "iopub.status.busy": "2022-11-09T14:44:37.154926Z",
     "iopub.status.idle": "2022-11-09T14:44:37.158376Z",
     "shell.execute_reply": "2022-11-09T14:44:37.158059Z"
    }
   },
   "outputs": [],
   "source": [
    "x.shape, x.mean(axis=0).tolist(), x.std(axis=0).tolist(), x.max(axis=0).values.tolist()"
   ]
  },
  {
   "cell_type": "code",
   "execution_count": null,
   "metadata": {
    "execution": {
     "iopub.execute_input": "2022-11-09T14:44:37.160351Z",
     "iopub.status.busy": "2022-11-09T14:44:37.160206Z",
     "iopub.status.idle": "2022-11-09T14:44:37.623732Z",
     "shell.execute_reply": "2022-11-09T14:44:37.623342Z"
    }
   },
   "outputs": [],
   "source": [
    "x_ = x.numpy()\n",
    "fig, ax = plt.subplots(1,6, figsize=(18, 3))\n",
    "ax[0].plot(theta[:, 0].numpy(), x_[:, 0], 'o', alpha=0.5, color='r', ms=1)\n",
    "ax[1].plot(theta[:, 0].numpy(), np.log10(x_[:, 1]), 'o', alpha=0.5, color='r', ms=1)\n",
    "ax[2].plot(theta[:, 0].numpy(), x_[:, 2], 'o', alpha=0.5, color='r', ms=1)\n",
    "ax[3].plot(theta[:, 1].numpy(), x_[:, 0], 'o', alpha=0.5, color=\"b\", ms=1)\n",
    "ax[4].plot(theta[:, 1].numpy(), np.log10(x_[:, 1]), 'o', alpha=0.5, color=\"b\", ms=1)\n",
    "ax[5].plot(theta[:, 1].numpy(), x_[:, 2], 'o', alpha=0.5, color=\"b\", ms=1)\n",
    "\n",
    "for i in range(3):\n",
    "    ax[i].set_xlabel(\"G\", fontsize=12)\n",
    "for i in range(3,6):    \n",
    "    ax[i].set_xlabel(\"V\", fontsize=12)\n",
    "for i in range(6):\n",
    "    ax[i].tick_params(labelsize=12)\n",
    "\n",
    "\n",
    "[ax[i].set_title(\"frequency\") for i in [0,3]]\n",
    "[ax[i].set_title(\"power\") for i in [1,4]]\n",
    "[ax[i].set_title(\"area\") for i in [2,5]]\n",
    "plt.tight_layout()"
   ]
  },
  {
   "cell_type": "code",
   "execution_count": null,
   "metadata": {
    "execution": {
     "iopub.execute_input": "2022-11-09T14:44:37.627726Z",
     "iopub.status.busy": "2022-11-09T14:44:37.627567Z",
     "iopub.status.idle": "2022-11-09T14:44:37.629629Z",
     "shell.execute_reply": "2022-11-09T14:44:37.629275Z"
    }
   },
   "outputs": [],
   "source": [
    "# print(f_features(parameters, par_list[0]))"
   ]
  },
  {
   "cell_type": "code",
   "execution_count": null,
   "metadata": {
    "execution": {
     "iopub.execute_input": "2022-11-09T14:44:37.631667Z",
     "iopub.status.busy": "2022-11-09T14:44:37.631519Z",
     "iopub.status.idle": "2022-11-09T14:44:37.635282Z",
     "shell.execute_reply": "2022-11-09T14:44:37.634933Z"
    }
   },
   "outputs": [],
   "source": [
    "# Load observation data features\n",
    "\n",
    "def obs_wrapper(par, opts):\n",
    "    group, subject = par\n",
    "    DS = P_Dataset(\"/home/ziaee/projects/02_Peirpaolo/dataset/data\")\n",
    "    t, ts = DS.load_TS(group, subject)\n",
    "    ts = DS.moving_average(ts, 10)\n",
    "    fmin = opts['fmin']\n",
    "    fmax = opts['fmax']\n",
    "\n",
    "    freq, pxx = DS.welch(ts, 1024, nperseg=4096)\n",
    "    pxx = np.mean(pxx, axis=0)\n",
    "    idxs = np.logical_and(freq >= fmin, freq <= fmax).tolist()\n",
    "    pxx = pxx[idxs]\n",
    "    freq = freq[idxs]\n",
    "    idx = np.argmax(pxx)\n",
    "    area = helpers.PSD_under_area(freq, pxx.reshape(1, -1), opt=opts)\n",
    "    \n",
    "    return freq[idx], pxx[idx], area[0]\n"
   ]
  },
  {
   "cell_type": "code",
   "execution_count": null,
   "metadata": {
    "execution": {
     "iopub.execute_input": "2022-11-09T14:44:37.637310Z",
     "iopub.status.busy": "2022-11-09T14:44:37.637162Z",
     "iopub.status.idle": "2022-11-09T14:44:39.768662Z",
     "shell.execute_reply": "2022-11-09T14:44:39.768255Z"
    }
   },
   "outputs": [],
   "source": [
    "# opts = {\"fmax\":13.0, \"fmin\":6.0, \"normalize\": False}\n",
    "# x_obs_ = obs_wrapper([group, subject], opts)\n",
    "# x_obs_ = torch.as_tensor(x_obs_, dtype=torch.float32).reshape(1, -1)"
   ]
  },
  {
   "cell_type": "code",
   "execution_count": null,
   "metadata": {
    "execution": {
     "iopub.execute_input": "2022-11-09T14:44:39.770768Z",
     "iopub.status.busy": "2022-11-09T14:44:39.770615Z",
     "iopub.status.idle": "2022-11-09T14:44:39.774013Z",
     "shell.execute_reply": "2022-11-09T14:44:39.773670Z"
    }
   },
   "outputs": [],
   "source": [
    "# x_obs_.shape, x_obs_"
   ]
  },
  {
   "cell_type": "code",
   "execution_count": null,
   "metadata": {},
   "outputs": [],
   "source": [
    "# torch.save(x_obs_, join(data_path, \"data_x_obs.pt\"))\n",
    "x_obs_ = torch.load(join(data_path, \"data_x_obs.pt\"))"
   ]
  },
  {
   "cell_type": "code",
   "execution_count": null,
   "metadata": {
    "execution": {
     "iopub.execute_input": "2022-11-09T14:44:39.775697Z",
     "iopub.status.busy": "2022-11-09T14:44:39.775552Z",
     "iopub.status.idle": "2022-11-09T14:44:39.779212Z",
     "shell.execute_reply": "2022-11-09T14:44:39.778854Z"
    }
   },
   "outputs": [],
   "source": [
    "x_ = torch.load(join(data_path, \"data_x.pt\"))\n",
    "theta = torch.load(join(data_path, \"theta.pt\"))\n",
    "print(x_.shape, theta.shape, x_[0,:])"
   ]
  },
  {
   "cell_type": "code",
   "execution_count": null,
   "metadata": {
    "execution": {
     "iopub.execute_input": "2022-11-09T14:44:39.780883Z",
     "iopub.status.busy": "2022-11-09T14:44:39.780738Z",
     "iopub.status.idle": "2022-11-09T14:44:39.784617Z",
     "shell.execute_reply": "2022-11-09T14:44:39.784253Z"
    }
   },
   "outputs": [],
   "source": [
    "# scaling features\n",
    "coefficient = 1e12 if (group == \"control\") else 2e12\n",
    "\n",
    "x = x_.clone().detach()\n",
    "x[:, 1:] = x[:, 1:] * coefficient\n",
    "x[0, :]\n"
   ]
  },
  {
   "cell_type": "code",
   "execution_count": null,
   "metadata": {
    "execution": {
     "iopub.execute_input": "2022-11-09T14:44:39.786273Z",
     "iopub.status.busy": "2022-11-09T14:44:39.786128Z",
     "iopub.status.idle": "2022-11-09T14:47:20.874152Z",
     "shell.execute_reply": "2022-11-09T14:47:20.873657Z"
    }
   },
   "outputs": [],
   "source": [
    "obj = Inference(parameters)\n",
    "# posterior = obj.train(num_simulations, prior, x[:, :], theta, 8)"
   ]
  },
  {
   "cell_type": "code",
   "execution_count": null,
   "metadata": {
    "execution": {
     "iopub.execute_input": "2022-11-09T14:47:20.876375Z",
     "iopub.status.busy": "2022-11-09T14:47:20.875991Z",
     "iopub.status.idle": "2022-11-09T14:47:20.887676Z",
     "shell.execute_reply": "2022-11-09T14:47:20.887197Z"
    }
   },
   "outputs": [],
   "source": [
    "# with open(join(data_path, f\"posterior_.pickle\"), \"wb\") as cf:\n",
    "#     pickle.dump({\"posterior\": posterior}, cf)\n",
    "posterior = pickle.load(open(join(data_path, f\"posterior_.pickle\"), \"rb\"))['posterior']"
   ]
  },
  {
   "cell_type": "code",
   "execution_count": null,
   "metadata": {
    "execution": {
     "iopub.execute_input": "2022-11-09T14:47:20.894380Z",
     "iopub.status.busy": "2022-11-09T14:47:20.894168Z",
     "iopub.status.idle": "2022-11-09T14:47:20.934073Z",
     "shell.execute_reply": "2022-11-09T14:47:20.933585Z"
    }
   },
   "outputs": [],
   "source": [
    "samples = obj.sample_posterior(x_obs_[:, :], 10_000, posterior)"
   ]
  },
  {
   "cell_type": "code",
   "execution_count": null,
   "metadata": {
    "execution": {
     "iopub.execute_input": "2022-11-09T14:47:20.936405Z",
     "iopub.status.busy": "2022-11-09T14:47:20.936217Z",
     "iopub.status.idle": "2022-11-09T14:47:20.939230Z",
     "shell.execute_reply": "2022-11-09T14:47:20.938762Z"
    }
   },
   "outputs": [],
   "source": [
    "torch.save(samples, join(data_path, \"samples.pt\"))"
   ]
  },
  {
   "cell_type": "code",
   "execution_count": null,
   "metadata": {
    "execution": {
     "iopub.execute_input": "2022-11-09T14:47:20.941235Z",
     "iopub.status.busy": "2022-11-09T14:47:20.941070Z",
     "iopub.status.idle": "2022-11-09T14:47:21.644532Z",
     "shell.execute_reply": "2022-11-09T14:47:21.644052Z"
    }
   },
   "outputs": [],
   "source": [
    "limits = [[i, j] for i, j in zip(prior_PAR_min, prior_PAR_max)]\n",
    "\n",
    "fig, ax = pairplot(\n",
    "    samples,\n",
    "    # points=theta_obs,\n",
    "    figsize=(5, 5),\n",
    "    limits=limits,\n",
    "    labels=[\"G\", \"V\"],\n",
    "    upper='kde',\n",
    "    diag='kde',\n",
    "    title=f\"n = {len(theta)}\",\n",
    "    points_colors=\"r\",\n",
    "    samples_colors=\"k\",\n",
    "    points_offdiag={'markersize': 10})\n",
    "\n",
    "ax[0,0].tick_params(labelsize=14)\n",
    "ax[0,0].margins(y=0)\n",
    "ax[0,0].set_xlabel(r\"$G$\", fontsize=16)\n",
    "ax[1,1].set_xlabel(r\"$V$\", fontsize=16)\n",
    "fig.savefig(join(data_path, \"triangleplot_.jpeg\"), dpi=150)\n"
   ]
  },
  {
   "cell_type": "code",
   "execution_count": null,
   "metadata": {
    "execution": {
     "iopub.execute_input": "2022-11-09T14:47:21.646688Z",
     "iopub.status.busy": "2022-11-09T14:47:21.646329Z",
     "iopub.status.idle": "2022-11-09T14:47:21.665679Z",
     "shell.execute_reply": "2022-11-09T14:47:21.665243Z"
    }
   },
   "outputs": [],
   "source": [
    "from vbi.utility import posterior_peaks\n",
    "theta_peak = posterior_peaks(samples, labels=[\"G\", \"V\"])\n",
    "print(theta_peak)"
   ]
  },
  {
   "cell_type": "code",
   "execution_count": null,
   "metadata": {
    "execution": {
     "iopub.execute_input": "2022-11-09T14:47:21.667682Z",
     "iopub.status.busy": "2022-11-09T14:47:21.667337Z",
     "iopub.status.idle": "2022-11-09T14:47:21.671214Z",
     "shell.execute_reply": "2022-11-09T14:47:21.670796Z"
    }
   },
   "outputs": [],
   "source": [
    "type(theta_peak), type(theta_peak[0])"
   ]
  },
  {
   "cell_type": "code",
   "execution_count": null,
   "metadata": {
    "execution": {
     "iopub.execute_input": "2022-11-09T14:47:21.673125Z",
     "iopub.status.busy": "2022-11-09T14:47:21.672800Z",
     "iopub.status.idle": "2022-11-09T14:47:21.675354Z",
     "shell.execute_reply": "2022-11-09T14:47:21.674910Z"
    }
   },
   "outputs": [],
   "source": [
    "from sbi.analysis import ActiveSubspace"
   ]
  },
  {
   "cell_type": "code",
   "execution_count": null,
   "metadata": {
    "execution": {
     "iopub.execute_input": "2022-11-09T14:47:21.677434Z",
     "iopub.status.busy": "2022-11-09T14:47:21.677122Z",
     "iopub.status.idle": "2022-11-09T14:47:21.700438Z",
     "shell.execute_reply": "2022-11-09T14:47:21.699984Z"
    }
   },
   "outputs": [],
   "source": [
    "posterior_active = posterior.set_default_x(x_obs_)\n",
    "sensitivity = ActiveSubspace(posterior_active)\n",
    "\n",
    "e_vals, e_vecs = sensitivity.find_directions(posterior_log_prob_as_property=True)"
   ]
  },
  {
   "cell_type": "code",
   "execution_count": null,
   "metadata": {
    "execution": {
     "iopub.execute_input": "2022-11-09T14:47:21.702813Z",
     "iopub.status.busy": "2022-11-09T14:47:21.702633Z",
     "iopub.status.idle": "2022-11-09T14:47:21.706357Z",
     "shell.execute_reply": "2022-11-09T14:47:21.706000Z"
    }
   },
   "outputs": [],
   "source": [
    "print(\"Eigenvalues: \\n\", e_vals, \"\\n\")\n",
    "print(\"Eigenvectors: \\n\", e_vecs)"
   ]
  },
  {
   "cell_type": "code",
   "execution_count": null,
   "metadata": {
    "execution": {
     "iopub.execute_input": "2022-11-09T14:47:21.708166Z",
     "iopub.status.busy": "2022-11-09T14:47:21.707991Z",
     "iopub.status.idle": "2022-11-09T14:47:21.712222Z",
     "shell.execute_reply": "2022-11-09T14:47:21.711856Z"
    }
   },
   "outputs": [],
   "source": [
    "import seaborn as sns\n",
    "sns.set_theme(style=\"darkgrid\")\n",
    "def plot_bar(ax, labels, y, ylabel=None):\n",
    "\n",
    "    x = np.arange(len(labels))\n",
    "    sns.barplot(x=x, y=y, palette=\"Reds_d\")\n",
    "    # ax.legend(loc='best', frameon=False)\n",
    "    ax.set_xticks(x, labels)\n",
    "    if ylabel is not None:\n",
    "        ax.set_ylabel(ylabel, fontsize=18)\n",
    "    ax.grid(False)\n",
    "    sns.despine(bottom = False, left = False)"
   ]
  },
  {
   "cell_type": "code",
   "execution_count": null,
   "metadata": {
    "execution": {
     "iopub.execute_input": "2022-11-09T14:47:21.714181Z",
     "iopub.status.busy": "2022-11-09T14:47:21.713889Z",
     "iopub.status.idle": "2022-11-09T14:47:21.997646Z",
     "shell.execute_reply": "2022-11-09T14:47:21.997219Z"
    }
   },
   "outputs": [],
   "source": [
    "fig, ax = plt.subplots(1, figsize=(4, 4))\n",
    "plot_bar(ax, [r\"$G$\", r\"$V$\"], e_vals.numpy().squeeze(), ylabel=\"sensitivity\")\n",
    "ax.set_yscale('log')\n",
    "plt.savefig(join(data_path, \"sensitivity_.jpeg\"), dpi=150);"
   ]
  },
  {
   "cell_type": "code",
   "execution_count": null,
   "metadata": {
    "execution": {
     "iopub.execute_input": "2022-11-09T14:47:21.999467Z",
     "iopub.status.busy": "2022-11-09T14:47:21.999307Z",
     "iopub.status.idle": "2022-11-09T14:47:22.002302Z",
     "shell.execute_reply": "2022-11-09T14:47:22.001966Z"
    }
   },
   "outputs": [],
   "source": [
    "# store in json file\n",
    "results = {\"G\": theta_peak[0], \"V\": theta_peak[1], \"sensitivity\": (1.0/e_vals.numpy().squeeze()).tolist()}\n",
    "with open(join(data_path, \"results.json\"), \"w\") as cf:\n",
    "    json.dump(results, cf)"
   ]
  },
  {
   "cell_type": "code",
   "execution_count": null,
   "metadata": {},
   "outputs": [],
   "source": []
  }
 ],
 "metadata": {
  "kernelspec": {
   "display_name": "Python 3.9.7 ('vbi')",
   "language": "python",
   "name": "python3"
  },
  "language_info": {
   "codemirror_mode": {
    "name": "ipython",
    "version": 3
   },
   "file_extension": ".py",
   "mimetype": "text/x-python",
   "name": "python",
   "nbconvert_exporter": "python",
   "pygments_lexer": "ipython3",
   "version": "3.9.7"
  },
  "vscode": {
   "interpreter": {
    "hash": "c6658fbeb11e9756b335e0a2275891bf44480ed23795317e1d3387270d95d796"
   }
  }
 },
 "nbformat": 4,
 "nbformat_minor": 2
}